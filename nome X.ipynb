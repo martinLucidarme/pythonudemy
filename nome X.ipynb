{
 "cells": [
  {
   "cell_type": "code",
   "execution_count": 1,
   "id": "e41fef3e",
   "metadata": {},
   "outputs": [],
   "source": [
    "lista = [1,2,3,4,5,6]"
   ]
  },
  {
   "cell_type": "code",
   "execution_count": null,
   "id": "276f5823",
   "metadata": {},
   "outputs": [],
   "source": []
  },
  {
   "cell_type": "code",
   "execution_count": 2,
   "id": "dff5e545",
   "metadata": {},
   "outputs": [
    {
     "data": {
      "text/plain": [
       "[1, 2, 3, 4, 5, 6]"
      ]
     },
     "execution_count": 2,
     "metadata": {},
     "output_type": "execute_result"
    }
   ],
   "source": [
    "lista"
   ]
  },
  {
   "cell_type": "code",
   "execution_count": 3,
   "id": "4ca6c1e1",
   "metadata": {},
   "outputs": [
    {
     "ename": "SyntaxError",
     "evalue": "cannot assign to literal (2114812120.py, line 1)",
     "output_type": "error",
     "traceback": [
      "\u001b[1;36m  Input \u001b[1;32mIn [3]\u001b[1;36m\u001b[0m\n\u001b[1;33m    a = 5, b=6\u001b[0m\n\u001b[1;37m        ^\u001b[0m\n\u001b[1;31mSyntaxError\u001b[0m\u001b[1;31m:\u001b[0m cannot assign to literal\n"
     ]
    }
   ],
   "source": [
    "a = 5, b=6"
   ]
  },
  {
   "cell_type": "code",
   "execution_count": 4,
   "id": "a3027d3e",
   "metadata": {},
   "outputs": [],
   "source": [
    "a= 5\n",
    "b=6\n"
   ]
  },
  {
   "cell_type": "code",
   "execution_count": 5,
   "id": "18ae6530",
   "metadata": {},
   "outputs": [
    {
     "name": "stdout",
     "output_type": "stream",
     "text": [
      "11\n"
     ]
    }
   ],
   "source": [
    "print(a+b\n",
    "     )"
   ]
  },
  {
   "cell_type": "code",
   "execution_count": 6,
   "id": "4f6f5caf",
   "metadata": {},
   "outputs": [
    {
     "data": {
      "text/plain": [
       "[\"'Esse' nÆo ‚ reconhecido como um comando interno\",\n",
       " 'ou externo, um programa oper\\xa0vel ou um arquivo em lotes.']"
      ]
     },
     "execution_count": 6,
     "metadata": {},
     "output_type": "execute_result"
    }
   ],
   "source": [
    "##Este é meu titulo\n",
    "!!Esse é o texto"
   ]
  },
  {
   "cell_type": "code",
   "execution_count": 7,
   "id": "62ab0eb9",
   "metadata": {},
   "outputs": [],
   "source": [
    "##Este é meu titulo"
   ]
  },
  {
   "cell_type": "code",
   "execution_count": 8,
   "id": "bdc65383",
   "metadata": {},
   "outputs": [],
   "source": [
    "##Este é meu titulo"
   ]
  },
  {
   "cell_type": "code",
   "execution_count": 9,
   "id": "91dc6bd8",
   "metadata": {},
   "outputs": [
    {
     "ename": "SyntaxError",
     "evalue": "invalid syntax (227887192.py, line 2)",
     "output_type": "error",
     "traceback": [
      "\u001b[1;36m  Input \u001b[1;32mIn [9]\u001b[1;36m\u001b[0m\n\u001b[1;33m    Este é meu texto\u001b[0m\n\u001b[1;37m         ^\u001b[0m\n\u001b[1;31mSyntaxError\u001b[0m\u001b[1;31m:\u001b[0m invalid syntax\n"
     ]
    }
   ],
   "source": [
    "##Este é meu titulo\n",
    "Este é meu texto"
   ]
  },
  {
   "cell_type": "markdown",
   "id": "ea143597",
   "metadata": {},
   "source": [
    "## esse é titulo"
   ]
  },
  {
   "cell_type": "code",
   "execution_count": 10,
   "id": "9765cb9c",
   "metadata": {},
   "outputs": [
    {
     "data": {
      "text/html": [
       "<p> um <strong>texto</strong> qualquer</p>\n"
      ],
      "text/plain": [
       "<IPython.core.display.HTML object>"
      ]
     },
     "metadata": {},
     "output_type": "display_data"
    }
   ],
   "source": [
    "%%HTML\n",
    "<p> um <strong>texto</strong> qualquer</p>"
   ]
  },
  {
   "cell_type": "code",
   "execution_count": null,
   "id": "7a2a6e7c",
   "metadata": {},
   "outputs": [],
   "source": []
  }
 ],
 "metadata": {
  "kernelspec": {
   "display_name": "Python 3 (ipykernel)",
   "language": "python",
   "name": "python3"
  },
  "language_info": {
   "codemirror_mode": {
    "name": "ipython",
    "version": 3
   },
   "file_extension": ".py",
   "mimetype": "text/x-python",
   "name": "python",
   "nbconvert_exporter": "python",
   "pygments_lexer": "ipython3",
   "version": "3.9.6"
  }
 },
 "nbformat": 4,
 "nbformat_minor": 5
}
